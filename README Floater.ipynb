{
 "cells": [
  {
   "cell_type": "code",
   "execution_count": 36,
   "metadata": {},
   "outputs": [
    {
     "data": {
      "text/plain": [
       "0"
      ]
     },
     "execution_count": 36,
     "metadata": {},
     "output_type": "execute_result"
    }
   ],
   "source": [
    "# -*- coding: utf-8 -*-\n",
    "\"\"\"\n",
    "Created on Wed Jul 15 22:26:23 2020\n",
    "\n",
    "@author: David McMahon\n",
    "\n",
    "This is probably ready to go.\n",
    "\"\"\"\n",
    "\n",
    "#Run in the correct git repository\n",
    "BOT_FILENAME = \"test.txt\"\n",
    "COMMIT_MESSAGE = \"README Float\"\n",
    "TEXT = \"\"\"Hi there,\n",
    "    We were trying to float README directory to top.\n",
    "    Don't change this file, our bot is constantly doing so!\"\"\"\n",
    "\n",
    "EXTRA_CHAR = \"!\"\n",
    "\n",
    "import sys\n",
    "import os\n",
    "\n",
    "#os.system('git add test.txt & git commit -m \"test\" & git push -f')\n",
    "\n",
    "import subprocess #Allows us to get command line output\n",
    "ORIGINAL_USER = subprocess.run(['git', 'config', 'user.name'], stdout=subprocess.PIPE).stdout.decode('utf-8').strip()\n",
    "ORIGINAL_EMAIL = subprocess.run(['git', 'config', 'user.email'], stdout=subprocess.PIPE).stdout.decode('utf-8').strip()\n",
    "BOT_USER = \"Droid-bot\"\n",
    "BOT_EMAIL = \"574nemobot@gmail.com\"\n",
    "\n",
    "#Command line: Commit file & edit stuff.\n",
    "os.system('git config --local user.name \"'+BOT_USER+'\"')\n",
    "os.system('git config --local user.email \"'+BOT_EMAIL+'\"')\n",
    "os.system(\"git add \" + BOT_FILENAME)\n",
    "os.system('git commit -m \"'+COMMIT_MESSAGE+'\"')\n",
    "os.system('git push -f')\n",
    "os.system('git config --local user.name \"'+ORIGINAL_USER+'\"')\n",
    "os.system('git config --local user.email \"'+ORIGINAL_EMAIL+'\"')\n",
    "\n",
    "#git commit --author=\"John Doe <john@doe.org>\""
   ]
  },
  {
   "cell_type": "code",
   "execution_count": 2,
   "metadata": {},
   "outputs": [],
   "source": [
    "#How to do it using pip imported apscheduler package\n",
    "#https://stackoverflow.com/questions/22715086/scheduling-python-script-to-run-every-hour-accurately\n",
    "from apscheduler.schedulers.blocking import BlockingScheduler\n",
    "\n",
    "def some_job():\n",
    "    print \"Decorated job\"\n",
    "\n",
    "scheduler = BlockingScheduler()\n",
    "scheduler.add_job(some_job, 'interval', hours=1)\n",
    "scheduler.start()"
   ]
  },
  {
   "cell_type": "code",
   "execution_count": 7,
   "metadata": {
    "scrolled": true
   },
   "outputs": [
    {
     "name": "stdout",
     "output_type": "stream",
     "text": [
      "Run something..\n",
      "Run something..\n"
     ]
    },
    {
     "ename": "KeyboardInterrupt",
     "evalue": "",
     "output_type": "error",
     "traceback": [
      "\u001b[1;31m---------------------------------------------------------------------------\u001b[0m",
      "\u001b[1;31mKeyboardInterrupt\u001b[0m                         Traceback (most recent call last)",
      "\u001b[1;32m<ipython-input-7-02cca8b288ca>\u001b[0m in \u001b[0;36m<module>\u001b[1;34m\u001b[0m\n\u001b[0;32m     11\u001b[0m \u001b[1;32mwhile\u001b[0m \u001b[1;32mTrue\u001b[0m\u001b[1;33m:\u001b[0m\u001b[1;33m\u001b[0m\u001b[1;33m\u001b[0m\u001b[0m\n\u001b[0;32m     12\u001b[0m     \u001b[0mprint\u001b[0m\u001b[1;33m(\u001b[0m\u001b[1;34m'Run something..'\u001b[0m\u001b[1;33m)\u001b[0m\u001b[1;33m\u001b[0m\u001b[1;33m\u001b[0m\u001b[0m\n\u001b[1;32m---> 13\u001b[1;33m     \u001b[0mtime\u001b[0m\u001b[1;33m.\u001b[0m\u001b[0msleep\u001b[0m\u001b[1;33m(\u001b[0m\u001b[0mINTERVAL\u001b[0m\u001b[1;33m)\u001b[0m\u001b[1;33m\u001b[0m\u001b[1;33m\u001b[0m\u001b[0m\n\u001b[0m",
      "\u001b[1;31mKeyboardInterrupt\u001b[0m: "
     ]
    }
   ],
   "source": [
    "#IN-built method\n",
    "from datetime import datetime, timedelta\n",
    "import time\n",
    "\n",
    "#Either put in time in seconds, or use timedelta to specify hours, minutes, etc.\n",
    "#INTERVAL = timedelta(seconds=3).total_seconds()\n",
    "#INTERVAL = 86400\n",
    "INTERVAL=3\n",
    "\n",
    "while True:\n",
    "    print('Run something..')\n",
    "    time.sleep(INTERVAL)"
   ]
  },
  {
   "cell_type": "markdown",
   "metadata": {},
   "source": [
    "How to change user.\n",
    "Each git folder has a local user - probably not important if baptiste changes readme. "
   ]
  },
  {
   "cell_type": "code",
   "execution_count": 28,
   "metadata": {},
   "outputs": [],
   "source": [
    "import subprocess\n",
    "ORIGINAL_USER = subprocess.run(['git', 'config', 'user.name'], stdout=subprocess.PIPE).stdout.decode('utf-8').strip()\n",
    "ORIGINAL_EMAIL = subprocess.run(['git', 'config', 'user.email'], stdout=subprocess.PIPE).stdout.decode('utf-8').strip()"
   ]
  },
  {
   "cell_type": "code",
   "execution_count": 29,
   "metadata": {},
   "outputs": [
    {
     "data": {
      "text/plain": [
       "'dmcmone@gmail.com'"
      ]
     },
     "execution_count": 29,
     "metadata": {},
     "output_type": "execute_result"
    }
   ],
   "source": [
    "ORIGINAL_EMAIL"
   ]
  },
  {
   "cell_type": "code",
   "execution_count": 30,
   "metadata": {},
   "outputs": [
    {
     "data": {
      "text/plain": [
       "'David1one'"
      ]
     },
     "execution_count": 30,
     "metadata": {},
     "output_type": "execute_result"
    }
   ],
   "source": [
    "ORIGINAL_USER"
   ]
  },
  {
   "cell_type": "code",
   "execution_count": 1,
   "metadata": {},
   "outputs": [],
   "source": [
    "#Need to add root\n",
    "\n",
    "def change_the_file():\n",
    "    '''Change the file to make a noticeable change from main branch.'''\n",
    "    res = False\n",
    "    if os.path.exists(BOT_FILENAME):\n",
    "        with open(BOT_FILENAME, \"r+\") as f:\n",
    "            if f.read() == TEXT:\n",
    "                res = True\n",
    "\n",
    "    with open(BOT_FILENAME, \"w+\") as f:\n",
    "        if res:\n",
    "            f.write(TEXT+EXTRA_CHAR)\n",
    "        else:\n",
    "            f.write(TEXT)"
   ]
  },
  {
   "cell_type": "code",
   "execution_count": null,
   "metadata": {},
   "outputs": [],
   "source": [
    "#If there is a difference between the local branch and the "
   ]
  }
 ],
 "metadata": {
  "kernelspec": {
   "display_name": "Python 3",
   "language": "python",
   "name": "python3"
  },
  "language_info": {
   "codemirror_mode": {
    "name": "ipython",
    "version": 3
   },
   "file_extension": ".py",
   "mimetype": "text/x-python",
   "name": "python",
   "nbconvert_exporter": "python",
   "pygments_lexer": "ipython3",
   "version": "3.7.7"
  }
 },
 "nbformat": 4,
 "nbformat_minor": 4
}
