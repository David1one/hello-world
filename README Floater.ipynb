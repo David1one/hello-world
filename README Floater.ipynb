{
 "cells": [
  {
   "cell_type": "code",
   "execution_count": 19,
   "metadata": {},
   "outputs": [
    {
     "data": {
      "text/plain": [
       "0"
      ]
     },
     "execution_count": 19,
     "metadata": {},
     "output_type": "execute_result"
    }
   ],
   "source": [
    "#Run in the correct git repository\n",
    "BOT_FILENAME = test.txt\n",
    "\n",
    "import sys\n",
    "import os\n",
    "\n",
    "res = False\n",
    "if os.path.exists(BOT_FILENAME):\n",
    "    with open(BOT_FILENAME, \"r+\") as f:\n",
    "        if f.read() == \"Test 2\":\n",
    "            res = True\n",
    "\n",
    "with open(BOT_FILENAME, \"w+\") as f:\n",
    "    if res:\n",
    "        f.write(\"Test 1\")\n",
    "    else:\n",
    "        f.write(\"Test 2\")\n",
    "\n",
    "os.system('git add test.txt & git commit -m \"test\" & git push -f')"
   ]
  },
  {
   "cell_type": "code",
   "execution_count": 2,
   "metadata": {},
   "outputs": [],
   "source": [
    "#How to do it using pip imported apscheduler package\n",
    "#https://stackoverflow.com/questions/22715086/scheduling-python-script-to-run-every-hour-accurately\n",
    "from apscheduler.schedulers.blocking import BlockingScheduler\n",
    "\n",
    "def some_job():\n",
    "    print \"Decorated job\"\n",
    "\n",
    "scheduler = BlockingScheduler()\n",
    "scheduler.add_job(some_job, 'interval', hours=1)\n",
    "scheduler.start()"
   ]
  },
  {
   "cell_type": "code",
   "execution_count": 7,
   "metadata": {
    "scrolled": true
   },
   "outputs": [
    {
     "name": "stdout",
     "output_type": "stream",
     "text": [
      "Run something..\n",
      "Run something..\n"
     ]
    },
    {
     "ename": "KeyboardInterrupt",
     "evalue": "",
     "output_type": "error",
     "traceback": [
      "\u001b[1;31m---------------------------------------------------------------------------\u001b[0m",
      "\u001b[1;31mKeyboardInterrupt\u001b[0m                         Traceback (most recent call last)",
      "\u001b[1;32m<ipython-input-7-02cca8b288ca>\u001b[0m in \u001b[0;36m<module>\u001b[1;34m\u001b[0m\n\u001b[0;32m     11\u001b[0m \u001b[1;32mwhile\u001b[0m \u001b[1;32mTrue\u001b[0m\u001b[1;33m:\u001b[0m\u001b[1;33m\u001b[0m\u001b[1;33m\u001b[0m\u001b[0m\n\u001b[0;32m     12\u001b[0m     \u001b[0mprint\u001b[0m\u001b[1;33m(\u001b[0m\u001b[1;34m'Run something..'\u001b[0m\u001b[1;33m)\u001b[0m\u001b[1;33m\u001b[0m\u001b[1;33m\u001b[0m\u001b[0m\n\u001b[1;32m---> 13\u001b[1;33m     \u001b[0mtime\u001b[0m\u001b[1;33m.\u001b[0m\u001b[0msleep\u001b[0m\u001b[1;33m(\u001b[0m\u001b[0mINTERVAL\u001b[0m\u001b[1;33m)\u001b[0m\u001b[1;33m\u001b[0m\u001b[1;33m\u001b[0m\u001b[0m\n\u001b[0m",
      "\u001b[1;31mKeyboardInterrupt\u001b[0m: "
     ]
    }
   ],
   "source": [
    "#IN-built method\n",
    "from datetime import datetime, timedelta\n",
    "import time\n",
    "\n",
    "#Either put in time in seconds, or use timedelta to specify hours, minutes, etc.\n",
    "#INTERVAL = timedelta(seconds=3).total_seconds()\n",
    "#INTERVAL = 86400\n",
    "INTERVAL=3\n",
    "\n",
    "while True:\n",
    "    print('Run something..')\n",
    "    time.sleep(INTERVAL)"
   ]
  },
  {
   "cell_type": "markdown",
   "metadata": {},
   "source": [
    "How to change user.\n",
    "Each git folder has a local user - probably not important if baptiste changes readme. "
   ]
  }
 ],
 "metadata": {
  "kernelspec": {
   "display_name": "Python 3",
   "language": "python",
   "name": "python3"
  },
  "language_info": {
   "codemirror_mode": {
    "name": "ipython",
    "version": 3
   },
   "file_extension": ".py",
   "mimetype": "text/x-python",
   "name": "python",
   "nbconvert_exporter": "python",
   "pygments_lexer": "ipython3",
   "version": "3.7.7"
  }
 },
 "nbformat": 4,
 "nbformat_minor": 4
}
